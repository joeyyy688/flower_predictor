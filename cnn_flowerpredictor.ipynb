{
  "nbformat": 4,
  "nbformat_minor": 0,
  "metadata": {
    "colab": {
      "name": " cnn flowerpredictor.ipynb",
      "provenance": [],
      "collapsed_sections": [],
      "authorship_tag": "ABX9TyOFkkWd9x4la6JqXG0aNEz1",
      "include_colab_link": true
    },
    "kernelspec": {
      "name": "python3",
      "display_name": "Python 3"
    },
    "language_info": {
      "name": "python"
    },
    "accelerator": "GPU"
  },
  "cells": [
    {
      "cell_type": "markdown",
      "metadata": {
        "id": "view-in-github",
        "colab_type": "text"
      },
      "source": [
        "<a href=\"https://colab.research.google.com/github/joeyyy688/flower_predictor/blob/master/cnn_flowerpredictor.ipynb\" target=\"_parent\"><img src=\"https://colab.research.google.com/assets/colab-badge.svg\" alt=\"Open In Colab\"/></a>"
      ]
    },
    {
      "cell_type": "code",
      "metadata": {
        "id": "AJJAUm3BARue"
      },
      "source": [
        "import tensorflow as tf\n",
        "import os\n"
      ],
      "execution_count": 5,
      "outputs": []
    },
    {
      "cell_type": "code",
      "metadata": {
        "colab": {
          "base_uri": "https://localhost:8080/"
        },
        "id": "vYAKqMF2B3O7",
        "outputId": "55d052fb-ac1a-43d3-a3a0-2e92440deb85"
      },
      "source": [
        "_url = 'https://storage.googleapis.com/download.tensorflow.org/example_images/flower_photos.tgz';\n",
        "\n",
        "zip_file = tf.keras.utils.get_file(origin = _url, fname = 'flower_photos.tgz', extract = True, cache_subdir = '/content');\n",
        "\n",
        "basedir = os.path.join(os.path.dirname(zip_file), 'flower_photos');"
      ],
      "execution_count": 6,
      "outputs": [
        {
          "output_type": "stream",
          "name": "stdout",
          "text": [
            "Downloading data from https://storage.googleapis.com/download.tensorflow.org/example_images/flower_photos.tgz\n",
            "228818944/228813984 [==============================] - 3s 0us/step\n",
            "228827136/228813984 [==============================] - 3s 0us/step\n"
          ]
        }
      ]
    },
    {
      "cell_type": "code",
      "metadata": {
        "colab": {
          "base_uri": "https://localhost:8080/"
        },
        "id": "ncvQjhTqVrjC",
        "outputId": "d827d8f1-e6d9-4263-9320-daf9a02e2c97"
      },
      "source": [
        "BATCH_SIZE = 64\n",
        "IMAGE_SIZE = 224\n",
        "\n",
        "datagen = tf.keras.preprocessing.image.ImageDataGenerator(\n",
        "    rescale = 1./255,\n",
        "    validation_split = 0.2\n",
        ")\n",
        "\n",
        "train_generator = datagen.flow_from_directory(\n",
        "    basedir, target_size = (IMAGE_SIZE, IMAGE_SIZE),\n",
        "    batch_size = BATCH_SIZE,\n",
        "     subset = 'training'\n",
        ")\n",
        "\n",
        "val_generator = datagen.flow_from_directory(\n",
        "    basedir, target_size = (IMAGE_SIZE, IMAGE_SIZE),\n",
        "    batch_size = BATCH_SIZE,\n",
        "    subset = 'validation'\n",
        ")\n",
        "\n"
      ],
      "execution_count": 7,
      "outputs": [
        {
          "output_type": "stream",
          "name": "stdout",
          "text": [
            "Found 2939 images belonging to 5 classes.\n",
            "Found 731 images belonging to 5 classes.\n"
          ]
        }
      ]
    },
    {
      "cell_type": "code",
      "metadata": {
        "colab": {
          "base_uri": "https://localhost:8080/"
        },
        "id": "uXiTEZKuhAxI",
        "outputId": "3d9992f4-5a37-4a87-e8d8-a757b6b2669c"
      },
      "source": [
        "print(train_generator.class_indices)"
      ],
      "execution_count": 8,
      "outputs": [
        {
          "output_type": "stream",
          "name": "stdout",
          "text": [
            "{'daisy': 0, 'dandelion': 1, 'roses': 2, 'sunflowers': 3, 'tulips': 4}\n"
          ]
        }
      ]
    },
    {
      "cell_type": "code",
      "metadata": {
        "id": "vnYUoWGOi47w"
      },
      "source": [
        "labels = '\\n'.join(sorted(train_generator.class_indices.keys()))\n",
        "\n",
        "with open('labels.txt', 'w') as f : \n",
        "  f.write(labels);"
      ],
      "execution_count": 9,
      "outputs": []
    },
    {
      "cell_type": "code",
      "metadata": {
        "colab": {
          "base_uri": "https://localhost:8080/"
        },
        "id": "VqjfYBlglKRi",
        "outputId": "361035ba-86af-42ff-fc41-ac217c609989"
      },
      "source": [
        "IMG_SHAPE = (IMAGE_SIZE, IMAGE_SIZE, 3)\n",
        "\n",
        "base_model = tf.keras.applications.MobileNetV2(input_shape = IMG_SHAPE, include_top = False, weights='imagenet')"
      ],
      "execution_count": 10,
      "outputs": [
        {
          "output_type": "stream",
          "name": "stdout",
          "text": [
            "Downloading data from https://storage.googleapis.com/tensorflow/keras-applications/mobilenet_v2/mobilenet_v2_weights_tf_dim_ordering_tf_kernels_1.0_224_no_top.h5\n",
            "9412608/9406464 [==============================] - 0s 0us/step\n",
            "9420800/9406464 [==============================] - 0s 0us/step\n"
          ]
        }
      ]
    },
    {
      "cell_type": "code",
      "metadata": {
        "id": "bG7e4R8fqBNn"
      },
      "source": [
        "base_model.trainable = False"
      ],
      "execution_count": 11,
      "outputs": []
    },
    {
      "cell_type": "code",
      "metadata": {
        "id": "h9kVV7I7s9Ej"
      },
      "source": [
        "model = tf.keras.Sequential([\n",
        "  base_model,\n",
        "  tf.keras.layers.Conv2D(32, 3, activation = 'relu'),\n",
        "  tf.keras.layers.Dropout(0.2),\n",
        "  tf.keras.layers.GlobalAveragePooling2D(),\n",
        "  tf.keras.layers.Dense(5, activation='softmax')\n",
        "])"
      ],
      "execution_count": 12,
      "outputs": []
    },
    {
      "cell_type": "code",
      "metadata": {
        "id": "pMggf2jW4w3M"
      },
      "source": [
        "model.compile(optimizer=tf.keras.optimizers.Adam(), loss='categorical_crossentropy', metrics=['accuracy'])"
      ],
      "execution_count": 13,
      "outputs": []
    },
    {
      "cell_type": "code",
      "metadata": {
        "colab": {
          "base_uri": "https://localhost:8080/"
        },
        "id": "v172RID65f78",
        "outputId": "1cfc0215-978f-429b-aabf-f46c40f72416"
      },
      "source": [
        "epochs = 10\n",
        "\n",
        "history = model.fit(train_generator, epochs=epochs, validation_data= val_generator)"
      ],
      "execution_count": 14,
      "outputs": [
        {
          "output_type": "stream",
          "name": "stdout",
          "text": [
            "Epoch 1/10\n",
            "46/46 [==============================] - 52s 394ms/step - loss: 0.6557 - accuracy: 0.7669 - val_loss: 0.4672 - val_accuracy: 0.8372\n",
            "Epoch 2/10\n",
            "46/46 [==============================] - 16s 338ms/step - loss: 0.2623 - accuracy: 0.9075 - val_loss: 0.4388 - val_accuracy: 0.8454\n",
            "Epoch 3/10\n",
            "46/46 [==============================] - 16s 338ms/step - loss: 0.1616 - accuracy: 0.9452 - val_loss: 0.4122 - val_accuracy: 0.8714\n",
            "Epoch 4/10\n",
            "46/46 [==============================] - 15s 335ms/step - loss: 0.0945 - accuracy: 0.9707 - val_loss: 0.4316 - val_accuracy: 0.8509\n",
            "Epoch 5/10\n",
            "46/46 [==============================] - 15s 335ms/step - loss: 0.0731 - accuracy: 0.9813 - val_loss: 0.4557 - val_accuracy: 0.8700\n",
            "Epoch 6/10\n",
            "46/46 [==============================] - 15s 334ms/step - loss: 0.0492 - accuracy: 0.9874 - val_loss: 0.4885 - val_accuracy: 0.8646\n",
            "Epoch 7/10\n",
            "46/46 [==============================] - 16s 337ms/step - loss: 0.0430 - accuracy: 0.9878 - val_loss: 0.5548 - val_accuracy: 0.8523\n",
            "Epoch 8/10\n",
            "46/46 [==============================] - 15s 335ms/step - loss: 0.0349 - accuracy: 0.9915 - val_loss: 0.5178 - val_accuracy: 0.8632\n",
            "Epoch 9/10\n",
            "46/46 [==============================] - 15s 335ms/step - loss: 0.0146 - accuracy: 0.9980 - val_loss: 0.5612 - val_accuracy: 0.8728\n",
            "Epoch 10/10\n",
            "46/46 [==============================] - 16s 336ms/step - loss: 0.0080 - accuracy: 1.0000 - val_loss: 0.6013 - val_accuracy: 0.8618\n"
          ]
        }
      ]
    },
    {
      "cell_type": "code",
      "metadata": {
        "colab": {
          "base_uri": "https://localhost:8080/"
        },
        "id": "62QHqHa_Jyn6",
        "outputId": "efa07fe3-0452-4140-83b6-99be6ed966ab"
      },
      "source": [
        "import tensorflow as tf\n",
        "import keras\n",
        "\n",
        "saved_model_dir = ''\n",
        "tf.saved_model.save(model, saved_model_dir)\n",
        "\n",
        "convertor = tf.lite.TFLiteConverter.from_saved_model(saved_model_dir)\n",
        "\n",
        "tflite_model = convertor.convert()\n",
        "\n",
        "with open('model.tflite', 'wb') as f :\n",
        "  f.write(tflite_model)"
      ],
      "execution_count": 15,
      "outputs": [
        {
          "output_type": "stream",
          "name": "stdout",
          "text": [
            "INFO:tensorflow:Assets written to: assets\n"
          ]
        },
        {
          "output_type": "stream",
          "name": "stderr",
          "text": [
            "INFO:tensorflow:Assets written to: assets\n"
          ]
        }
      ]
    },
    {
      "cell_type": "code",
      "metadata": {
        "colab": {
          "base_uri": "https://localhost:8080/",
          "height": 17
        },
        "id": "5afO4O3UPpS2",
        "outputId": "4b7fac3d-f02b-4ae5-9e7f-e3df33a5aa62"
      },
      "source": [
        "from google.colab import files\n",
        "\n",
        "files.download('labels.txt')"
      ],
      "execution_count": 16,
      "outputs": [
        {
          "output_type": "display_data",
          "data": {
            "application/javascript": [
              "\n",
              "    async function download(id, filename, size) {\n",
              "      if (!google.colab.kernel.accessAllowed) {\n",
              "        return;\n",
              "      }\n",
              "      const div = document.createElement('div');\n",
              "      const label = document.createElement('label');\n",
              "      label.textContent = `Downloading \"${filename}\": `;\n",
              "      div.appendChild(label);\n",
              "      const progress = document.createElement('progress');\n",
              "      progress.max = size;\n",
              "      div.appendChild(progress);\n",
              "      document.body.appendChild(div);\n",
              "\n",
              "      const buffers = [];\n",
              "      let downloaded = 0;\n",
              "\n",
              "      const channel = await google.colab.kernel.comms.open(id);\n",
              "      // Send a message to notify the kernel that we're ready.\n",
              "      channel.send({})\n",
              "\n",
              "      for await (const message of channel.messages) {\n",
              "        // Send a message to notify the kernel that we're ready.\n",
              "        channel.send({})\n",
              "        if (message.buffers) {\n",
              "          for (const buffer of message.buffers) {\n",
              "            buffers.push(buffer);\n",
              "            downloaded += buffer.byteLength;\n",
              "            progress.value = downloaded;\n",
              "          }\n",
              "        }\n",
              "      }\n",
              "      const blob = new Blob(buffers, {type: 'application/binary'});\n",
              "      const a = document.createElement('a');\n",
              "      a.href = window.URL.createObjectURL(blob);\n",
              "      a.download = filename;\n",
              "      div.appendChild(a);\n",
              "      a.click();\n",
              "      div.remove();\n",
              "    }\n",
              "  "
            ],
            "text/plain": [
              "<IPython.core.display.Javascript object>"
            ]
          },
          "metadata": {}
        },
        {
          "output_type": "display_data",
          "data": {
            "application/javascript": [
              "download(\"download_0045ccba-cff9-43dd-950d-9447d3170f9d\", \"labels.txt\", 39)"
            ],
            "text/plain": [
              "<IPython.core.display.Javascript object>"
            ]
          },
          "metadata": {}
        }
      ]
    }
  ]
}